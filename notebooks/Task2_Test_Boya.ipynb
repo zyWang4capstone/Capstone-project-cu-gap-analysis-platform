{
 "cells": [
  {
   "cell_type": "markdown",
   "id": "70c5a5d3",
   "metadata": {},
   "source": [
    "# Task2"
   ]
  },
  {
   "cell_type": "markdown",
   "id": "25244d3a",
   "metadata": {},
   "source": [
    "## Setup & Load"
   ]
  },
  {
   "cell_type": "code",
   "execution_count": 1,
   "id": "3093d409",
   "metadata": {},
   "outputs": [
    {
     "name": "stdout",
     "output_type": "stream",
     "text": [
      "dh_orig   : shape=(2466130, 9)\n",
      "dh_dnn    : shape=(920225, 8)\n",
      "surf_orig : shape=(981318, 6)\n",
      "surf_dnn  : shape=(544886, 5)\n"
     ]
    }
   ],
   "source": [
    "# Setup & load\n",
    "from pathlib import Path\n",
    "import pandas as pd\n",
    "import numpy as np\n",
    "\n",
    "# Define project paths\n",
    "project_root      = Path.cwd().parent\n",
    "TASK1_CLEAN_DIR   = project_root / \"reports\" / \"task1\" / \"cleaned\"\n",
    "TASK2_DIR         = project_root / \"reports\" / \"task2\"\n",
    "TASK2_DIR.mkdir(parents=True, exist_ok=True)\n",
    "\n",
    "# Define file paths\n",
    "csv_paths = {\n",
    "    \"dh_orig\":   TASK1_CLEAN_DIR / \"drillhole_original_clean.csv\",\n",
    "    \"dh_dnn\":    TASK1_CLEAN_DIR / \"drillhole_dnn_clean.csv\",\n",
    "    \"surf_orig\": TASK1_CLEAN_DIR / \"surface_original_clean.csv\",\n",
    "    \"surf_dnn\":  TASK1_CLEAN_DIR / \"surface_dnn_clean.csv\",\n",
    "}\n",
    "\n",
    "# Load CSVs\n",
    "dfs = {k: pd.read_csv(v) for k, v in csv_paths.items()}\n",
    "\n",
    "df_dh_orig_clean   = dfs[\"dh_orig\"]\n",
    "df_dh_dl_clean     = dfs[\"dh_dnn\"]\n",
    "df_surf_orig_clean = dfs[\"surf_orig\"]\n",
    "df_surf_dl_clean   = dfs[\"surf_dnn\"]\n",
    "\n",
    "# Print basic info\n",
    "for k, df in dfs.items():\n",
    "    print(f\"{k:10s}: shape={df.shape}\")"
   ]
  },
  {
   "cell_type": "markdown",
   "id": "fdc5d281",
   "metadata": {},
   "source": [
    "### Summarize Latitude/Longitude Extent"
   ]
  },
  {
   "cell_type": "code",
   "execution_count": 2,
   "id": "7fa07f4c",
   "metadata": {},
   "outputs": [
    {
     "data": {
      "text/html": [
       "<div>\n",
       "<style scoped>\n",
       "    .dataframe tbody tr th:only-of-type {\n",
       "        vertical-align: middle;\n",
       "    }\n",
       "\n",
       "    .dataframe tbody tr th {\n",
       "        vertical-align: top;\n",
       "    }\n",
       "\n",
       "    .dataframe thead th {\n",
       "        text-align: right;\n",
       "    }\n",
       "</style>\n",
       "<table border=\"1\" class=\"dataframe\">\n",
       "  <thead>\n",
       "    <tr style=\"text-align: right;\">\n",
       "      <th></th>\n",
       "      <th>Dataset</th>\n",
       "      <th>Count</th>\n",
       "      <th>LatMin</th>\n",
       "      <th>LatMax</th>\n",
       "      <th>LonMin</th>\n",
       "      <th>LonMax</th>\n",
       "    </tr>\n",
       "  </thead>\n",
       "  <tbody>\n",
       "    <tr>\n",
       "      <th>0</th>\n",
       "      <td>Drillhole Original</td>\n",
       "      <td>2466130</td>\n",
       "      <td>-34.945354</td>\n",
       "      <td>-27.025372</td>\n",
       "      <td>114.675570</td>\n",
       "      <td>122.131294</td>\n",
       "    </tr>\n",
       "    <tr>\n",
       "      <th>1</th>\n",
       "      <td>Drillhole DNN</td>\n",
       "      <td>920225</td>\n",
       "      <td>-34.945354</td>\n",
       "      <td>-27.025372</td>\n",
       "      <td>114.676380</td>\n",
       "      <td>122.107080</td>\n",
       "    </tr>\n",
       "    <tr>\n",
       "      <th>2</th>\n",
       "      <td>Surface Original</td>\n",
       "      <td>981318</td>\n",
       "      <td>-34.990154</td>\n",
       "      <td>-26.915041</td>\n",
       "      <td>114.519930</td>\n",
       "      <td>122.135070</td>\n",
       "    </tr>\n",
       "    <tr>\n",
       "      <th>3</th>\n",
       "      <td>Surface DNN</td>\n",
       "      <td>544886</td>\n",
       "      <td>-34.927277</td>\n",
       "      <td>-27.102000</td>\n",
       "      <td>114.547104</td>\n",
       "      <td>122.122314</td>\n",
       "    </tr>\n",
       "  </tbody>\n",
       "</table>\n",
       "</div>"
      ],
      "text/plain": [
       "              Dataset    Count     LatMin     LatMax      LonMin      LonMax\n",
       "0  Drillhole Original  2466130 -34.945354 -27.025372  114.675570  122.131294\n",
       "1       Drillhole DNN   920225 -34.945354 -27.025372  114.676380  122.107080\n",
       "2    Surface Original   981318 -34.990154 -26.915041  114.519930  122.135070\n",
       "3         Surface DNN   544886 -34.927277 -27.102000  114.547104  122.122314"
      ]
     },
     "metadata": {},
     "output_type": "display_data"
    }
   ],
   "source": [
    "# Latitude/Longitude coverage summary\n",
    "\n",
    "def extent_for(df: pd.DataFrame, lat_col: str, lon_col: str) -> dict:\n",
    "    lat = pd.to_numeric(df[lat_col], errors=\"coerce\").dropna()\n",
    "    lon = pd.to_numeric(df[lon_col], errors=\"coerce\").dropna()\n",
    "    return {\n",
    "        \"LatMin\": lat.min() if not lat.empty else None,\n",
    "        \"LatMax\": lat.max() if not lat.empty else None,\n",
    "        \"LonMin\": lon.min() if not lon.empty else None,\n",
    "        \"LonMax\": lon.max() if not lon.empty else None,\n",
    "        \"Count\": int(df.shape[0])\n",
    "    }\n",
    "\n",
    "rows = []\n",
    "datasets = {\n",
    "    \"Drillhole Original\": (df_dh_orig_clean, \"LATITUDE\", \"LONGITUDE\"),\n",
    "    \"Drillhole DNN\":      (df_dh_dl_clean,   \"LATITUDE\", \"LONGITUDE\"),\n",
    "    \"Surface Original\":   (df_surf_orig_clean, \"DLAT\", \"DLONG\"),\n",
    "    \"Surface DNN\":        (df_surf_dl_clean,   \"DLAT\", \"DLONG\"),\n",
    "}\n",
    "\n",
    "for name, (df, lat_col, lon_col) in datasets.items():\n",
    "    if {lat_col, lon_col}.issubset(df.columns):\n",
    "        e = extent_for(df, lat_col, lon_col)\n",
    "        e[\"Dataset\"] = name\n",
    "        rows.append(e)\n",
    "\n",
    "extents_df = pd.DataFrame(rows)[[\"Dataset\",\"Count\",\"LatMin\",\"LatMax\",\"LonMin\",\"LonMax\"]]\n",
    "display(extents_df)"
   ]
  },
  {
   "cell_type": "markdown",
   "id": "1bd088e3",
   "metadata": {},
   "source": [
    "## Samples\n",
    "\n",
    "A subset for testing (here I set up the same region as in the paper).\n",
    "Can either use this smaller dataset to focus only on the study area, or use the full cleaned datasets for broader analysis. "
   ]
  },
  {
   "cell_type": "code",
   "execution_count": 3,
   "id": "cdc9b0f7",
   "metadata": {},
   "outputs": [
    {
     "name": "stdout",
     "output_type": "stream",
     "text": [
      "[SAVE] Drillhole Original -> rows=403\n",
      "[SAVE] Drillhole DNN      -> rows=294\n",
      "[SAVE] Surface Original   -> rows=210\n",
      "[SAVE] Surface DNN        -> rows=531\n",
      "Saved Task2 sample datasets to: ../reports/task2/sample_csv\n"
     ]
    }
   ],
   "source": [
    "# Define a bounding box (latitude/longitude region)\n",
    "lat_min, lat_max = -30.0, -27.5\n",
    "lon_min, lon_max = 120.0, 121.5\n",
    "\n",
    "def filter_by_bbox(df: pd.DataFrame, lat_col: str, lon_col: str) -> pd.DataFrame:\n",
    "    lat = pd.to_numeric(df[lat_col], errors=\"coerce\")\n",
    "    lon = pd.to_numeric(df[lon_col], errors=\"coerce\")\n",
    "    mask = (\n",
    "        lat.notna() & lon.notna() &\n",
    "        (lat >= lat_min) & (lat <= lat_max) &\n",
    "        (lon >= lon_min) & (lon <= lon_max)\n",
    "    )\n",
    "    return df.loc[mask].copy()\n",
    "\n",
    "# Use relative path (like in Task1)\n",
    "SAMPLE_DIR = Path(\"../reports/task2/sample_csv\")\n",
    "SAMPLE_DIR.mkdir(parents=True, exist_ok=True)\n",
    "\n",
    "# Filter and export\n",
    "samples = {}\n",
    "for name, (df, lat_col, lon_col) in datasets.items():\n",
    "    if {lat_col, lon_col}.issubset(df.columns):\n",
    "        sub = filter_by_bbox(df, lat_col, lon_col)\n",
    "        samples[name] = sub\n",
    "        out_path = SAMPLE_DIR / f\"{name.lower().replace(' ', '_')}_sample.csv\"\n",
    "        sub.to_csv(out_path, index=False)\n",
    "        print(f\"[SAVE] {name:18s} -> rows={sub.shape[0]}\")\n",
    "\n",
    "print(\"Saved Task2 sample datasets to:\", SAMPLE_DIR)"
   ]
  },
  {
   "cell_type": "markdown",
   "id": "48d2258f",
   "metadata": {},
   "source": [
    "## Test"
   ]
  }
 ],
 "metadata": {
  "kernelspec": {
   "display_name": ".venv",
   "language": "python",
   "name": "python3"
  },
  "language_info": {
   "codemirror_mode": {
    "name": "ipython",
    "version": 3
   },
   "file_extension": ".py",
   "mimetype": "text/x-python",
   "name": "python",
   "nbconvert_exporter": "python",
   "pygments_lexer": "ipython3",
   "version": "3.9.6"
  }
 },
 "nbformat": 4,
 "nbformat_minor": 5
}
